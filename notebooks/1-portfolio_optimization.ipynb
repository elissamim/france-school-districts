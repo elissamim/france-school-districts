{
 "cells": [
  {
   "cell_type": "code",
   "execution_count": null,
   "id": "223631f0-880b-451e-9ba4-e3bd2f24f278",
   "metadata": {},
   "outputs": [],
   "source": [
    "import numpy as np\n",
    "import scipy.sparse as sp\n",
    "import cvxpy as cp\n",
    "import matplotlib.pyplot as plt\n",
    "import seaborn as sns\n",
    "import warnings"
   ]
  },
  {
   "cell_type": "code",
   "execution_count": 38,
   "id": "800f32ed-4217-44a9-a234-14a4b089a990",
   "metadata": {
    "scrolled": true
   },
   "outputs": [
    {
     "name": "stdout",
     "output_type": "stream",
     "text": [
      "The autoreload extension is already loaded. To reload it, use:\n",
      "  %reload_ext autoreload\n"
     ]
    }
   ],
   "source": [
    "%load_ext autoreload\n",
    "%autoreload 2\n",
    "\n",
    "%matplotlib inline\n",
    "    \n",
    "warnings.simplefilter(\"ignore\")"
   ]
  },
  {
   "cell_type": "code",
   "execution_count": 13,
   "id": "a0d63eb4-d2c0-4fff-81a8-6c66de2e1343",
   "metadata": {},
   "outputs": [],
   "source": [
    "np.random.seed(42)\n",
    "nb_assets = 10\n",
    "mean_return_assets = np.random.randn(nb_assets, 1)\n",
    "covariance_assets = np.random.randn(nb_assets , nb_assets)\n",
    "covariance_assets = covariance_assets.T.dot(covariance_assets)\n",
    "\n",
    "# Long only portfolio optimization\n",
    "weights_assets = cp.Variable(nb_assets)\n",
    "risk_aversion_parameter = cp.Parameter(nonneg=True)\n",
    "\n",
    "return_portfolio = mean_return_assets.T @ weights_assets\n",
    "\n",
    "risk_portfolio = cp.quad_form(\n",
    "    weights_assets, \n",
    "    covariance_assets\n",
    ")\n",
    "\n",
    "problem = cp.Problem(\n",
    "    cp.Maximize(return_portfolio - risk_aversion_parameter * risk_portfolio),\n",
    "    [cp.sum(weights_assets) == 1, weights_assets >= 0]\n",
    ")"
   ]
  },
  {
   "cell_type": "code",
   "execution_count": 32,
   "id": "ca4f4f50-95f9-4db4-9e2f-de63032dd20b",
   "metadata": {},
   "outputs": [
    {
     "name": "stderr",
     "output_type": "stream",
     "text": [
      "/tmp/ipykernel_2798/2698757455.py:9: DeprecationWarning: Conversion of an array with ndim > 0 to a scalar is deprecated, and will error in future. Ensure you extract a single element from your array before performing this operation. (Deprecated NumPy 1.25.)\n",
      "  return_values[i] = return_portfolio.value\n"
     ]
    }
   ],
   "source": [
    "num_samples = 100\n",
    "return_values = np.zeros(num_samples)\n",
    "risk_values = np.zeros(num_samples)\n",
    "risk_aversion_values = np.logspace(-2, 3, num_samples)\n",
    "\n",
    "for i, risk_aversion in enumerate(risk_aversion_values):\n",
    "    risk_aversion_parameter.value = risk_aversion\n",
    "    problem.solve()\n",
    "    return_values[i] = return_portfolio.value\n",
    "    risk_values[i] = cp.sqrt(risk_portfolio).value"
   ]
  },
  {
   "cell_type": "code",
   "execution_count": null,
   "id": "e8067287-9f07-4d04-94db-2084afbcd17c",
   "metadata": {},
   "outputs": [],
   "source": [
    "plt.plot(risk_values, )"
   ]
  }
 ],
 "metadata": {
  "kernelspec": {
   "display_name": "Python 3 (ipykernel)",
   "language": "python",
   "name": "python3"
  },
  "language_info": {
   "codemirror_mode": {
    "name": "ipython",
    "version": 3
   },
   "file_extension": ".py",
   "mimetype": "text/x-python",
   "name": "python",
   "nbconvert_exporter": "python",
   "pygments_lexer": "ipython3",
   "version": "3.12.5"
  }
 },
 "nbformat": 4,
 "nbformat_minor": 5
}
